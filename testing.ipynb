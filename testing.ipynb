{
 "cells": [
  {
   "cell_type": "markdown",
   "metadata": {},
   "source": [
    "# Packages/Imports"
   ]
  },
  {
   "cell_type": "code",
   "execution_count": 16,
   "metadata": {},
   "outputs": [],
   "source": [
    "from tinydb import TinyDB, Query\n",
    "import re\n",
    "import random as rd"
   ]
  },
  {
   "cell_type": "markdown",
   "metadata": {},
   "source": [
    "# Helper Functions"
   ]
  },
  {
   "cell_type": "code",
   "execution_count": null,
   "metadata": {},
   "outputs": [],
   "source": [
    "# Takes in a player level or creature CR and outputs the corresponding proviciency modifier.\n",
    "def profByLevel(level):\n",
    "    return 2 + int((level - 1) / 4)\n",
    "\n",
    "\"\"\"\n",
    "rollDice takes in a string expression representing a series of dice and randomizes a total in that range\n",
    "stmt: A string representing the dice expression\n",
    "hasAvg: Boolean value determining if an expression has a predetermined average value\n",
    "rollAvg: Boolean value representing if the average value was requested or not\n",
    "Returns: An integer representing the value of the expression\n",
    "\"\"\"\n",
    "def rollDice(stmt, hasAvg=True, rollAvg=False):\n",
    "    # Cleans the statement of any unexpected characters\n",
    "    stmt = re.sub(r\"[^d0-9+:]\", \"\", stmt.lower())\n",
    "    total = 0  # Total number rolled\n",
    "\n",
    "    # Special case for expressions that have an average value (Expressed before dice with a colon)\n",
    "    if hasAvg:\n",
    "        # Splits the average value (behind the colon) from the dice expression\n",
    "        splitAvg = stmt.split(\":\")\n",
    "        # Returns the average if requested\n",
    "        if rollAvg:\n",
    "            return int(splitAvg[0])\n",
    "        # Otherwise, reassigns stmt to conform with the rest of the method\n",
    "        stmt = splitAvg[1]\n",
    "\n",
    "    # Splits the statement across additions of different dice values\n",
    "    dice = stmt.split(\"+\")\n",
    "    for d in dice:\n",
    "        # Checks for a dice value, if none, add the term directly\n",
    "        if \"d\" in d:\n",
    "            # Splits term into dice quantity and value\n",
    "            die = d.split(\"d\")\n",
    "            # If no quantity of dice was given, assume 1\n",
    "            if die[0] == \"\":\n",
    "                die[0] = \"1\"\n",
    "            for i in range(int(die[0])):\n",
    "                total += rd.randint(1, int(die[1]))\n",
    "        else:\n",
    "            total += int(d)\n",
    "    return total"
   ]
  },
  {
   "cell_type": "markdown",
   "metadata": {},
   "source": [
    "# Global Data"
   ]
  },
  {
   "cell_type": "code",
   "execution_count": 4,
   "metadata": {},
   "outputs": [],
   "source": [
    "# List of all valid damage types in dnd 5e and 2024 edition\n",
    "damageType = [\n",
    "    \"Piercing\",\n",
    "    \"Bludgeoning\",\n",
    "    \"Slashing\",\n",
    "    \"Cold\",\n",
    "    \"Fire\",\n",
    "    \"Lightning\",\n",
    "    \"Thunder\",\n",
    "    \"Poison\",\n",
    "    \"Acid\",\n",
    "    \"Necrotic\",\n",
    "    \"Radiant\",\n",
    "    \"Force\",\n",
    "    \"Psychic\"\n",
    "]\n",
    "\n",
    "# List of all valid alignments in dnd 5e and 2024 edition\n",
    "alignments = [\n",
    "    \"Unaligned\",\n",
    "    \"Lawful Good\",\n",
    "    \"Lawful Neutral\",\n",
    "    \"Lawful Evil\",\n",
    "    \"Neutral Good\",\n",
    "    \"True Neutral\",\n",
    "    \"Neutral Evil\",\n",
    "    \"Chaotic Good\",\n",
    "    \"Chaotic Neutral\",\n",
    "    \"Chaotic Evil\"\n",
    "    ]"
   ]
  },
  {
   "cell_type": "markdown",
   "metadata": {},
   "source": [
    "# Database Files"
   ]
  },
  {
   "cell_type": "code",
   "execution_count": 7,
   "metadata": {},
   "outputs": [],
   "source": [
    "players = TinyDB('TestDatabases/players.json')\n",
    "monsters = TinyDB('TestDatabases/monsters.json')\n",
    "sizes = TinyDB('TestDatabases/size.json')\n",
    "types = TinyDB('TestDatabases/type.json')\n",
    "conditions = TinyDB('TestDatabases/condition.json')\n",
    "classes = TinyDB('TestDatabases/class.json')\n",
    "species = TinyDB('TestDatabases/species.json')\n",
    "skills = TinyDB('TestDatabases/skill.json')\n",
    "senses = TinyDB('TestDatabases/senses.json')\n",
    "parties = TinyDB('TestDatabases/party.json')"
   ]
  },
  {
   "cell_type": "markdown",
   "metadata": {},
   "source": [
    "# Core Object Definitions"
   ]
  },
  {
   "cell_type": "code",
   "execution_count": null,
   "metadata": {},
   "outputs": [],
   "source": [
    "class Player:\n",
    "    def __init__(self):\n",
    "        pass\n",
    "\n",
    "class Party:\n",
    "    def __init__(self):\n",
    "        pass\n",
    "\n",
    "class Monster:\n",
    "    def __init__(self):\n",
    "        pass\n",
    "        \n",
    "class PlayerClass:\n",
    "    def __init__(self):\n",
    "        pass\n",
    "      \n",
    "class Species:\n",
    "    def __init__(self):\n",
    "        pass\n",
    "\n",
    "class MonsterType:\n",
    "    def __init__(self):\n",
    "        pass\n",
    "\n",
    "class Condition:\n",
    "    def __init__(self):\n",
    "        pass"
   ]
  },
  {
   "cell_type": "markdown",
   "metadata": {},
   "source": [
    "# Testing Cells"
   ]
  },
  {
   "cell_type": "code",
   "execution_count": null,
   "metadata": {},
   "outputs": [
    {
     "name": "stdout",
     "output_type": "stream",
     "text": [
      "<class 'tinydb.table.Document'>\n",
      "1: Blinded\n",
      "<class 'tinydb.table.Document'>\n",
      "2: Charmed\n",
      "<class 'tinydb.table.Document'>\n",
      "3: Deafened\n",
      "<class 'tinydb.table.Document'>\n",
      "4: Frightened\n",
      "<class 'tinydb.table.Document'>\n",
      "5: Grappled\n",
      "<class 'tinydb.table.Document'>\n",
      "6: Incapacitated\n",
      "<class 'tinydb.table.Document'>\n",
      "7: Invisible\n",
      "<class 'tinydb.table.Document'>\n",
      "8: Paralyzed\n",
      "<class 'tinydb.table.Document'>\n",
      "9: Petrified\n",
      "<class 'tinydb.table.Document'>\n",
      "10: Poisoned\n",
      "<class 'tinydb.table.Document'>\n",
      "11: Prone\n",
      "<class 'tinydb.table.Document'>\n",
      "12: Restrained\n",
      "<class 'tinydb.table.Document'>\n",
      "13: Stunned\n",
      "<class 'tinydb.table.Document'>\n",
      "14: Unconscious\n",
      "<class 'tinydb.table.Document'>\n",
      "15: Exhaustion\n"
     ]
    }
   ],
   "source": [
    "for c in conditions.all():\n",
    "    print(f\"{c.doc_id}: {c['name']}\" )"
   ]
  },
  {
   "cell_type": "code",
   "execution_count": null,
   "metadata": {},
   "outputs": [
    {
     "data": {
      "text/plain": [
       "[1]"
      ]
     },
     "execution_count": 6,
     "metadata": {},
     "output_type": "execute_result"
    }
   ],
   "source": [
    "players.update({'level': 5}, doc_ids=[1])"
   ]
  }
 ],
 "metadata": {
  "kernelspec": {
   "display_name": "Python 3",
   "language": "python",
   "name": "python3"
  },
  "language_info": {
   "codemirror_mode": {
    "name": "ipython",
    "version": 3
   },
   "file_extension": ".py",
   "mimetype": "text/x-python",
   "name": "python",
   "nbconvert_exporter": "python",
   "pygments_lexer": "ipython3",
   "version": "3.13.2"
  }
 },
 "nbformat": 4,
 "nbformat_minor": 2
}
