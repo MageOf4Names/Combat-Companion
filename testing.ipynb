{
 "cells": [
  {
   "cell_type": "markdown",
   "metadata": {},
   "source": [
    "# Packages/Imports"
   ]
  },
  {
   "cell_type": "code",
   "execution_count": 1,
   "metadata": {},
   "outputs": [],
   "source": [
    "from tinydb import TinyDB, Query"
   ]
  },
  {
   "cell_type": "markdown",
   "metadata": {},
   "source": [
    "# Helper Functions"
   ]
  },
  {
   "cell_type": "code",
   "execution_count": null,
   "metadata": {},
   "outputs": [],
   "source": [
    "# Takes in a player level or creature CR and outputs the corresponding proviciency modifier.\n",
    "def profByLevel(level):\n",
    "    return 2 + int((level - 1) / 4)"
   ]
  },
  {
   "cell_type": "markdown",
   "metadata": {},
   "source": [
    "# Global Data"
   ]
  },
  {
   "cell_type": "code",
   "execution_count": 4,
   "metadata": {},
   "outputs": [],
   "source": [
    "damageType = [\n",
    "    \"Piercing\",\n",
    "    \"Bludgeoning\",\n",
    "    \"Slashing\",\n",
    "    \"Cold\",\n",
    "    \"Fire\",\n",
    "    \"Lightning\",\n",
    "    \"Thunder\",\n",
    "    \"Poison\",\n",
    "    \"Acid\",\n",
    "    \"Necrotic\",\n",
    "    \"Radiant\",\n",
    "    \"Force\",\n",
    "    \"Psychic\"\n",
    "]\n",
    "\n",
    "alignments = [\n",
    "    \"Unaligned\",\n",
    "    \"Lawful Good\",\n",
    "    \"Lawful Neutral\",\n",
    "    \"Lawful Evil\",\n",
    "    \"Neutral Good\",\n",
    "    \"True Neutral\",\n",
    "    \"Neutral Evil\",\n",
    "    \"Chaotic Good\",\n",
    "    \"Chaotic Neutral\",\n",
    "    \"Chaotic Evil\"\n",
    "    ]"
   ]
  },
  {
   "cell_type": "markdown",
   "metadata": {},
   "source": [
    "# Database Files"
   ]
  },
  {
   "cell_type": "code",
   "execution_count": null,
   "metadata": {},
   "outputs": [],
   "source": [
    "# players = TinyDB('DBFiles/players.json')\n",
    "# creatures = TinyDB('DBFiles/creatures.json')\n",
    "# sizes = TinyDB('DBFiles/size.json')\n",
    "# types = TinyDB('DBFiles/type.json')\n",
    "# conditions = TinyDB('DBFiles/condition.json')\n",
    "# classes = TinyDB('DBFiles/class.json')\n",
    "# species = TinyDB('DBFiles/species.json')\n",
    "# skills = TinyDB('DBFiles/skill.json')\n",
    "# senses = TinyDB('DBFiles/senses.json')\n",
    "# parties = TinyDB('DBFiles/party.json')"
   ]
  },
  {
   "cell_type": "markdown",
   "metadata": {},
   "source": [
    "# Core Object Definitions"
   ]
  },
  {
   "cell_type": "code",
   "execution_count": null,
   "metadata": {},
   "outputs": [],
   "source": []
  },
  {
   "cell_type": "markdown",
   "metadata": {},
   "source": [
    "# Testing Cells"
   ]
  },
  {
   "cell_type": "code",
   "execution_count": 5,
   "metadata": {},
   "outputs": [
    {
     "name": "stdout",
     "output_type": "stream",
     "text": [
      "0: 2\n",
      "0.125: 2\n",
      "0.25: 2\n",
      "0.5: 2\n",
      "1: 2\n",
      "2: 2\n",
      "3: 2\n",
      "4: 2\n",
      "5: 3\n",
      "6: 3\n",
      "7: 3\n",
      "8: 3\n",
      "9: 4\n",
      "10: 4\n",
      "11: 4\n",
      "12: 4\n",
      "13: 5\n",
      "14: 5\n",
      "15: 5\n",
      "16: 5\n",
      "17: 6\n",
      "18: 6\n",
      "19: 6\n",
      "20: 6\n",
      "21: 7\n",
      "22: 7\n",
      "23: 7\n",
      "24: 7\n",
      "25: 8\n",
      "26: 8\n",
      "27: 8\n",
      "28: 8\n",
      "29: 9\n",
      "30: 9\n"
     ]
    }
   ],
   "source": [
    "# Test to determine Proficiency bonus by Challenge Rating\n",
    "cr = [0, 0.125, 0.25, 0.5, 1, 2, 3, 4, 5, 6, 7, 8, 9, 10, 11, 12, 13, 14, 15, 16, 17 ,18, 19, 20, 21, 22, 23, 24, 25, 26, 27, 28, 29, 30]\n",
    "\n",
    "for i in cr:\n",
    "    print(f\"{i}: {profByLevel(i)}\")"
   ]
  }
 ],
 "metadata": {
  "kernelspec": {
   "display_name": "Python 3",
   "language": "python",
   "name": "python3"
  },
  "language_info": {
   "codemirror_mode": {
    "name": "ipython",
    "version": 3
   },
   "file_extension": ".py",
   "mimetype": "text/x-python",
   "name": "python",
   "nbconvert_exporter": "python",
   "pygments_lexer": "ipython3",
   "version": "3.13.2"
  }
 },
 "nbformat": 4,
 "nbformat_minor": 2
}
