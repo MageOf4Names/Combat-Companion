{
 "cells": [
  {
   "cell_type": "markdown",
   "metadata": {},
   "source": [
    "# Packages/Imports"
   ]
  },
  {
   "cell_type": "code",
   "execution_count": 1,
   "metadata": {},
   "outputs": [],
   "source": [
    "from PySide6.QtWidgets import QApplication, QWidget\n",
    "from tinydb import TinyDB, Query\n",
    "from tinydb.table import Document\n",
    "import re\n",
    "import random as rd\n",
    "import math"
   ]
  },
  {
   "cell_type": "markdown",
   "metadata": {},
   "source": [
    "# Helper Functions"
   ]
  },
  {
   "cell_type": "code",
   "execution_count": 3,
   "metadata": {},
   "outputs": [],
   "source": [
    "# Takes in a player level or creature CR and outputs the corresponding proviciency modifier.\n",
    "def profByLevel(level):\n",
    "    return 2 + int((level - 1) / 4)\n",
    "\n",
    "# Takes in an ability score and returns the associated bonus score\n",
    "def getBonus(score):\n",
    "    return math.floor((score - 10) / 2)\n",
    "\n",
    "\"\"\"\n",
    "rollDice takes in a string expression representing a series of dice and randomizes a total in that range\n",
    "stmt: A string representing the dice expression\n",
    "hasAvg: Boolean value determining if an expression has a predetermined average value\n",
    "rollAvg: Boolean value representing if the average value was requested or not\n",
    "Returns: An integer representing the value of the expression\n",
    "\"\"\"\n",
    "def rollDice(stmt, hasAvg=False, rollAvg=False):\n",
    "    # Cleans the statement of any unexpected characters\n",
    "    stmt = re.sub(r\"[^d0-9+-:]\", \"\", stmt.lower())\n",
    "    total = 0  # Total number rolled\n",
    "\n",
    "    print(stmt)\n",
    "\n",
    "    # Special case for expressions that have an average value (Expressed before dice with a colon)\n",
    "    if hasAvg:\n",
    "        # Splits the average value (behind the colon) from the dice expression\n",
    "        splitAvg = stmt.split(\":\")\n",
    "        # Returns the average if requested\n",
    "        if rollAvg:\n",
    "            return int(splitAvg[0])\n",
    "        # Otherwise, reassigns stmt to conform with the rest of the method\n",
    "        stmt = splitAvg[1]\n",
    "\n",
    "    # Splits the statement across additions of different dice values\n",
    "    dice = stmt.split(\"+\")\n",
    "    for d in dice:\n",
    "        # Checks for a dice value, if none, add the term directly\n",
    "        if \"d\" in d:\n",
    "            # Splits term into dice quantity and value\n",
    "            die = d.split(\"d\")\n",
    "            # If no quantity of dice was given, assume 1\n",
    "            if die[0] == \"\":\n",
    "                die[0] = \"1\"\n",
    "            for i in range(int(die[0])):\n",
    "                total += rd.randint(1, int(die[1]))\n",
    "        else:\n",
    "            total += int(d)\n",
    "    return total"
   ]
  },
  {
   "cell_type": "markdown",
   "metadata": {},
   "source": [
    "# Global Data"
   ]
  },
  {
   "cell_type": "code",
   "execution_count": 4,
   "metadata": {},
   "outputs": [],
   "source": [
    "encounterXP = 0\n",
    "\n",
    "# List of all valid damage types in dnd 5e and 2024 edition\n",
    "damageType = [\n",
    "    \"Piercing\",\n",
    "    \"Bludgeoning\",\n",
    "    \"Slashing\",\n",
    "    \"Cold\",\n",
    "    \"Fire\",\n",
    "    \"Lightning\",\n",
    "    \"Thunder\",\n",
    "    \"Poison\",\n",
    "    \"Acid\",\n",
    "    \"Necrotic\",\n",
    "    \"Radiant\",\n",
    "    \"Force\",\n",
    "    \"Psychic\"\n",
    "]\n",
    "\n",
    "# List of all valid alignments in dnd 5e and 2024 edition\n",
    "alignments = [\n",
    "    \"Unaligned\",\n",
    "    \"Lawful Good\",\n",
    "    \"Lawful Neutral\",\n",
    "    \"Lawful Evil\",\n",
    "    \"Neutral Good\",\n",
    "    \"True Neutral\",\n",
    "    \"Neutral Evil\",\n",
    "    \"Chaotic Good\",\n",
    "    \"Chaotic Neutral\",\n",
    "    \"Chaotic Evil\"\n",
    "]\n",
    "\n",
    "# Dictionary for translating stat names into list order\n",
    "statDict = {\n",
    "    'Strength' : 0,\n",
    "    'Dexterity' : 1,\n",
    "    'Constitution' : 2,\n",
    "    'Intelligence' : 3,\n",
    "    'Wisdom' : 4,\n",
    "    'Charisma' : 5\n",
    "}"
   ]
  },
  {
   "cell_type": "markdown",
   "metadata": {},
   "source": [
    "# Database Files"
   ]
  },
  {
   "cell_type": "code",
   "execution_count": 8,
   "metadata": {},
   "outputs": [],
   "source": [
    "players = TinyDB('TestDatabases/players.json').table('player_characters')\n",
    "monsters = TinyDB('TestDatabases/monsters.json').table('monsters')\n",
    "types = TinyDB('TestDatabases/type.json').table('monster_types')\n",
    "classes = TinyDB('TestDatabases/class.json').table('player_classes')\n",
    "species = TinyDB('TestDatabases/species.json').table('species')\n",
    "conditions = TinyDB('TestDatabases/condition.json').table('conditions')\n",
    "parties = TinyDB('TestDatabases/party.json').table('parties')\n",
    "refs = TinyDB('TestDatabases/reference.json')\n",
    "senses = refs.table('senses')\n",
    "sizes = refs.table('sizes')\n",
    "skills = refs.table('skills')"
   ]
  },
  {
   "cell_type": "markdown",
   "metadata": {},
   "source": [
    "# Core Object Definitions"
   ]
  },
  {
   "cell_type": "code",
   "execution_count": 6,
   "metadata": {},
   "outputs": [],
   "source": [
    "class UnexpectedSyntax:\n",
    "    \"Unexpected syntax in expression.\"\n",
    "    pass"
   ]
  },
  {
   "cell_type": "code",
   "execution_count": 7,
   "metadata": {},
   "outputs": [],
   "source": [
    "class Combatant:\n",
    "    def __init__(self, source, init):\n",
    "        # Permanent values assigned from the database entry\n",
    "        self.index = source.doc_id\n",
    "        self.name = source[\"name\"]\n",
    "        self.ac = source['ac']\n",
    "        self.size = source['size']\n",
    "        self.alignment = source['alignment']\n",
    "        self.languages = source['languages']\n",
    "        self.speed = source['speed']\n",
    "        self.stats = source['ability_scores']\n",
    "        self.saves = source['saves']\n",
    "        self.skillProf = source['skills']\n",
    "        self.senses = source['senses']\n",
    "        self.damages = source['damage_types']\n",
    "        self.notes = source['notes']\n",
    "        # Temporary values assigned during combat\n",
    "        self.init = init\n",
    "        self.tempHP = 0\n",
    "        self.conditions = []\n",
    "        self.concentration = False\n",
    "        self.conscious = True\n",
    "        # Set HP stats to zero as a baseline (overridden later)\n",
    "        self.maxHP = 0\n",
    "        self.currentHP = 0\n",
    "        self.proficiency = 1\n",
    "\n",
    "    \"\"\"\n",
    "    setCurrentHP takes in an expression and adjusts a combatant's currentHP attribute to match\n",
    "    val: String representing the expression\n",
    "    \"\"\"\n",
    "    def setCurrentHP(self, val):\n",
    "        # Trim all unexpected characters from the string\n",
    "        val = re.sub(r\"[^0-9+-]\", '', val)\n",
    "        # Check if user wants to add to the current hp (and ensures hp isn't over max)\n",
    "        if val[0] == '+' and '+' not in val[1:]:\n",
    "            self.currentHP += int(val[1:])\n",
    "            if self.currentHP > self.maxHP: self.currentHP = self.maxHP\n",
    "        # Check if user wants to subtract from current hp (and checks for unconsciousness)\n",
    "        elif val[0] == '-' and '-' not in val[1:]:\n",
    "            self.currentHP -= int(val[1:])\n",
    "            if self.currentHP <= 0:\n",
    "                self.currentHP = 0\n",
    "                self.conscious = False\n",
    "        # Check to see if the expression only contains digits\n",
    "        elif '+' not in val and '-' not in val:\n",
    "            self.currentHP = int(val)\n",
    "        # Raises an exception if the expression contains extra characters\n",
    "        else:\n",
    "            raise UnexpectedSyntax\n",
    " \n",
    "    \"\"\"\n",
    "    updateTempHP takes in an expression and adjusts a combatant's tempHP attribute to match\n",
    "    val: String representing the expression\n",
    "    \"\"\"\n",
    "    def updateTempHP(self, val):\n",
    "        # Trim all unexpected characters from the string\n",
    "        val = re.sub(r\"[^0-9+-]\", '', val)\n",
    "        # Check if user wants to add to the current hp (and ensures hp isn't over max)\n",
    "        if val[0] == '+' and '+' not in val[1:]:\n",
    "            self.tempHP += int(val[1:])\n",
    "        # Check if user wants to subtract from current hp (and checks for unconsciousness)\n",
    "        elif val[0] == '-' and '-' not in val[1:]:\n",
    "            self.tempHP -= int(val[1:])\n",
    "            if self.tempHP <= 0:\n",
    "                self.tempHP = 0\n",
    "        # Check to see if the expression only contains digits\n",
    "        elif '+' not in val and '-' not in val:\n",
    "            self.tempHP = int(val)\n",
    "        # Raises an exception if the expression contains extra characters\n",
    "        else:\n",
    "            raise UnexpectedSyntax\n",
    "\n",
    "    # Rolls a saving throw for the given stat.\n",
    "    def rollSave(self, stat):\n",
    "        # Builds a statement for rolling a d20 + ability modifier\n",
    "        stmt = \"d20+\" + str(getBonus(self.stats[statDict[stat]]))\n",
    "        if self.saves[statDict[stat]] == 1:\n",
    "            stmt += str(self.proficiency)\n",
    "        return rollDice(stmt)\n",
    "\n",
    "    # Rolls a skill check using the name of the skill.\n",
    "    def rollSkill(self, skillName):\n",
    "        # Looks for the requested skill in reference database\n",
    "        lookup = Query()\n",
    "        skill = skills.search(lookup.skill == skillName)[0]\n",
    "        # Finds the proper list in the ability array\n",
    "        stat = statDict[skill['stat']]\n",
    "        # Builds the rolling statement for d20 + ability modifier\n",
    "        stmt = \"d20+\" + str(getBonus(self.stats[stat]))\n",
    "        match self.skillProf[skill.doc_id]:\n",
    "            case 1:\n",
    "                stmt += \"+\" + str(self.proficiency)\n",
    "            case 2:\n",
    "                stmt += \"+\" + str(self.proficiency * 2)\n",
    "        return rollDice(stmt)\n",
    "\n",
    "    # Updates the notes field for the given combatant.\n",
    "    def updateNotes(self, txt):\n",
    "        self.notes = txt\n",
    "    \n",
    "    # Updates the concentration field to represent if the combatant is concentration or not\n",
    "    def updateConcentrate(self, con):\n",
    "        self.concentration = con\n",
    "\n",
    "    # Adds a condition to the combatant's list\n",
    "    def addCondition(self, cond):\n",
    "        self.conditions.append(cond)\n",
    "\n",
    "    # Removes a condition from the combatant's list\n",
    "    def removeCondition(self, cond):\n",
    "        self.conditions.remove(cond)\n",
    "\n",
    "\n",
    "class Player(Combatant):\n",
    "    def __init__(self, pc, init):\n",
    "        # Set all shared values through the super method\n",
    "        super().__init__(pc, init)\n",
    "        # Set values unique to a player character\n",
    "        self.level = pc['level']\n",
    "        self.playerClass = pc['class']\n",
    "        self.species = pc['species']\n",
    "        self.currentHP = self.maxHP\n",
    "        self.deathSaves = [0, 0]\n",
    "        # Override default values\n",
    "        self.maxHP = pc['hp']\n",
    "        self.currentHP = self.maxHP\n",
    "        self.proficiency = profByLevel(self.level)\n",
    "\n",
    "    # Handles death saves either by inserted value or by rolling dice\n",
    "    def deathSave(self, val, roll=True):\n",
    "        if roll:\n",
    "            val = rollDice(\"d20\")\n",
    "        if val >= 10:\n",
    "            self.deathSave[1] += 1\n",
    "        else:\n",
    "            self.deathSave[0] += 1\n",
    "\n",
    "class Monster(Combatant):\n",
    "    def __init__(self, monst, init, isAvg):\n",
    "        # Set all shared values through the super method\n",
    "        super().__init__(monst, init)\n",
    "        # Set values unique to a monster\n",
    "        self.cr = monst[\"cr\"]\n",
    "        self.xp = monst[\"xp\"]\n",
    "        self.type = monst[\"type\"]\n",
    "        self.actions = monst[\"actions\"]\n",
    "        self.traits = monst[\"special_traits\"]\n",
    "        self.legend = monst[\"legendary\"]\n",
    "        self.lAct = monst[\"legendary_actions\"]\n",
    "        self.lRes = monst[\"legendary_resistances\"]\n",
    "        self.lair = monst[\"lair_actions\"]\n",
    "        # Override default values\n",
    "        self.maxHP = rollDice(monst[\"hp\"], hasAvg=True, rollAvg=isAvg)\n",
    "        self.currentHP = self.maxHP\n",
    "        self.proficiency = profByLevel(self.cr)\n",
    "\n",
    "    # Overrides default method to add xp to encounter when monster is defeated.\n",
    "    def setCurrentHP(self, val):\n",
    "        super().setCurrentHP(val)\n",
    "        if self.conscious == False:\n",
    "            encounterXP += self.xp"
   ]
  },
  {
   "cell_type": "markdown",
   "metadata": {},
   "source": [
    "# Testing Cells"
   ]
  },
  {
   "cell_type": "code",
   "execution_count": 15,
   "metadata": {},
   "outputs": [
    {
     "name": "stdout",
     "output_type": "stream",
     "text": [
      "1: Abberation\n",
      "2: Beast\n",
      "3: Celestial\n",
      "4: Construct\n",
      "5: Dragon\n",
      "6: Elemental\n",
      "7: Fey\n",
      "8: Feind\n",
      "9: Giant\n",
      "10: Humanoid\n",
      "11: Monstrosity\n",
      "12: Ooze\n",
      "13: Plant\n",
      "14: Undead\n",
      "15: Test\n",
      "16: Test\n",
      "17: Test\n"
     ]
    }
   ],
   "source": [
    "for c in types.all():\n",
    "    print(f\"{c.doc_id}: {c['type']}\" )"
   ]
  },
  {
   "cell_type": "code",
   "execution_count": 14,
   "metadata": {},
   "outputs": [
    {
     "data": {
      "text/plain": [
       "[1]"
      ]
     },
     "execution_count": 14,
     "metadata": {},
     "output_type": "execute_result"
    }
   ],
   "source": [
    "types.upsert(Document({\"type\": \"Abberation\"}, doc_id=1))"
   ]
  },
  {
   "cell_type": "code",
   "execution_count": null,
   "metadata": {},
   "outputs": [],
   "source": [
    "pc = Player(players.all()[0], 17)"
   ]
  },
  {
   "cell_type": "code",
   "execution_count": 14,
   "metadata": {},
   "outputs": [
    {
     "data": {
      "text/plain": [
       "['9']"
      ]
     },
     "execution_count": 14,
     "metadata": {},
     "output_type": "execute_result"
    }
   ],
   "source": [
    "p = players.all()[0]\n",
    "[*p['class']]"
   ]
  },
  {
   "cell_type": "code",
   "execution_count": 11,
   "metadata": {},
   "outputs": [
    {
     "data": {
      "text/plain": [
       "18.2"
      ]
     },
     "execution_count": 11,
     "metadata": {},
     "output_type": "execute_result"
    }
   ],
   "source": [
    "player = players.all()[0]\n",
    "18 + player['ability_scores'][1] / 100"
   ]
  },
  {
   "cell_type": "code",
   "execution_count": 10,
   "metadata": {},
   "outputs": [
    {
     "name": "stdout",
     "output_type": "stream",
     "text": [
      "(1d6 + 3)Piercing\n",
      "['1d6', ' + ', '3', 'Piercing']\n",
      "(4)Cold\n",
      "['4', 'Cold']\n",
      "(6d6)Fire\n",
      "['6d6', 'Fire']\n"
     ]
    }
   ],
   "source": [
    "dmgList = [\"(1d6 + 3)Piercing\", \"(4)Cold\", \"(6d6)Fire\"]\n",
    "for dmg in dmgList:\n",
    "    print(dmg)\n",
    "    # | [+-] |[0-9]+|[a-zA-Z]{3,20}\n",
    "    print(re.findall(r\"[0-9]+d[0-9]{1,2}| [+-] |[0-9]+|[a-zA-Z]{3,20}\", dmg))"
   ]
  }
 ],
 "metadata": {
  "kernelspec": {
   "display_name": ".venv",
   "language": "python",
   "name": "python3"
  },
  "language_info": {
   "codemirror_mode": {
    "name": "ipython",
    "version": 3
   },
   "file_extension": ".py",
   "mimetype": "text/x-python",
   "name": "python",
   "nbconvert_exporter": "python",
   "pygments_lexer": "ipython3",
   "version": "3.13.3"
  }
 },
 "nbformat": 4,
 "nbformat_minor": 2
}
